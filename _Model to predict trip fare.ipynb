{
 "cells": [
  {
   "cell_type": "markdown",
   "metadata": {},
   "source": [
    "# Model building\n",
    "Build a model to predict trip_fare using travel_distance and travel_time. \n",
    "Measure the accuracy of the model and use the model to predict trip_fare for a trip with travel_distance of 3.5 kms and travel_time of 15 minutes.\n",
    "\n"
   ]
  },
  {
   "cell_type": "markdown",
   "metadata": {},
   "source": [
    "# -------------------------------------------------------------------------------------------------\n",
    "# -------------------------------------------------------------------------------------------------"
   ]
  },
  {
   "cell_type": "markdown",
   "metadata": {},
   "source": [
    "# 1. Import the relevant libraries."
   ]
  },
  {
   "cell_type": "code",
   "execution_count": 5,
   "metadata": {},
   "outputs": [],
   "source": [
    "import matplotlib.pyplot as plt\n",
    "import numpy as np\n",
    "import pandas as pd\n",
    "from mpl_toolkits.mplot3d import Axes3D\n",
    "from sklearn.linear_model import LinearRegression\n",
    "from sklearn.model_selection import train_test_split "
   ]
  },
  {
   "cell_type": "markdown",
   "metadata": {},
   "source": [
    "# 2. Import the dataframe store in df "
   ]
  },
  {
   "cell_type": "code",
   "execution_count": 6,
   "metadata": {},
   "outputs": [
    {
     "data": {
      "text/html": [
       "<div>\n",
       "<style scoped>\n",
       "    .dataframe tbody tr th:only-of-type {\n",
       "        vertical-align: middle;\n",
       "    }\n",
       "\n",
       "    .dataframe tbody tr th {\n",
       "        vertical-align: top;\n",
       "    }\n",
       "\n",
       "    .dataframe thead th {\n",
       "        text-align: right;\n",
       "    }\n",
       "</style>\n",
       "<table border=\"1\" class=\"dataframe\">\n",
       "  <thead>\n",
       "    <tr style=\"text-align: right;\">\n",
       "      <th></th>\n",
       "      <th>trip_id</th>\n",
       "      <th>customer_id</th>\n",
       "      <th>timestamp</th>\n",
       "      <th>pick_lat</th>\n",
       "      <th>pick_lng</th>\n",
       "      <th>drop_lat</th>\n",
       "      <th>drop_lng</th>\n",
       "      <th>travel_distance</th>\n",
       "      <th>travel_time</th>\n",
       "      <th>trip_fare</th>\n",
       "    </tr>\n",
       "  </thead>\n",
       "  <tbody>\n",
       "    <tr>\n",
       "      <td>0</td>\n",
       "      <td>ID001</td>\n",
       "      <td>CUST_001</td>\n",
       "      <td>1.546710e+12</td>\n",
       "      <td>17.442705</td>\n",
       "      <td>78.387878</td>\n",
       "      <td>17.457829</td>\n",
       "      <td>78.399056</td>\n",
       "      <td>2.806</td>\n",
       "      <td>12.609667</td>\n",
       "      <td>37.0</td>\n",
       "    </tr>\n",
       "    <tr>\n",
       "      <td>1</td>\n",
       "      <td>ID002</td>\n",
       "      <td>CUST_002</td>\n",
       "      <td>1.546710e+12</td>\n",
       "      <td>17.490189</td>\n",
       "      <td>78.415512</td>\n",
       "      <td>17.450548</td>\n",
       "      <td>78.367294</td>\n",
       "      <td>11.991</td>\n",
       "      <td>24.075200</td>\n",
       "      <td>119.0</td>\n",
       "    </tr>\n",
       "    <tr>\n",
       "      <td>2</td>\n",
       "      <td>ID003</td>\n",
       "      <td>CUST_003</td>\n",
       "      <td>1.546710e+12</td>\n",
       "      <td>17.370108</td>\n",
       "      <td>78.515045</td>\n",
       "      <td>17.377041</td>\n",
       "      <td>78.517921</td>\n",
       "      <td>1.322</td>\n",
       "      <td>8.708300</td>\n",
       "      <td>27.0</td>\n",
       "    </tr>\n",
       "    <tr>\n",
       "      <td>3</td>\n",
       "      <td>ID004</td>\n",
       "      <td>CUST_004</td>\n",
       "      <td>1.546710e+12</td>\n",
       "      <td>17.439314</td>\n",
       "      <td>78.443001</td>\n",
       "      <td>17.397131</td>\n",
       "      <td>78.516586</td>\n",
       "      <td>11.822</td>\n",
       "      <td>24.037550</td>\n",
       "      <td>121.0</td>\n",
       "    </tr>\n",
       "    <tr>\n",
       "      <td>4</td>\n",
       "      <td>ID005</td>\n",
       "      <td>CUST_005</td>\n",
       "      <td>1.546710e+12</td>\n",
       "      <td>17.432325</td>\n",
       "      <td>78.381966</td>\n",
       "      <td>17.401625</td>\n",
       "      <td>78.400032</td>\n",
       "      <td>6.978</td>\n",
       "      <td>16.120867</td>\n",
       "      <td>58.0</td>\n",
       "    </tr>\n",
       "  </tbody>\n",
       "</table>\n",
       "</div>"
      ],
      "text/plain": [
       "  trip_id customer_id     timestamp   pick_lat   pick_lng   drop_lat  \\\n",
       "0   ID001    CUST_001  1.546710e+12  17.442705  78.387878  17.457829   \n",
       "1   ID002    CUST_002  1.546710e+12  17.490189  78.415512  17.450548   \n",
       "2   ID003    CUST_003  1.546710e+12  17.370108  78.515045  17.377041   \n",
       "3   ID004    CUST_004  1.546710e+12  17.439314  78.443001  17.397131   \n",
       "4   ID005    CUST_005  1.546710e+12  17.432325  78.381966  17.401625   \n",
       "\n",
       "    drop_lng  travel_distance  travel_time  trip_fare  \n",
       "0  78.399056            2.806    12.609667       37.0  \n",
       "1  78.367294           11.991    24.075200      119.0  \n",
       "2  78.517921            1.322     8.708300       27.0  \n",
       "3  78.516586           11.822    24.037550      121.0  \n",
       "4  78.400032            6.978    16.120867       58.0  "
      ]
     },
     "execution_count": 6,
     "metadata": {},
     "output_type": "execute_result"
    }
   ],
   "source": [
    "df = pd.read_csv('rapido.csv')\n",
    "df.head()"
   ]
  },
  {
   "cell_type": "markdown",
   "metadata": {},
   "source": [
    "# Before creating an ML algorithm first drop all of the rows with a missing value from df."
   ]
  },
  {
   "cell_type": "code",
   "execution_count": 18,
   "metadata": {},
   "outputs": [],
   "source": [
    "df = df.dropna()"
   ]
  },
  {
   "cell_type": "markdown",
   "metadata": {},
   "source": [
    "# 3. Now Create two variable x and y where 'x' belongs to independent variable and 'y' belongs to dependent variable."
   ]
  },
  {
   "cell_type": "code",
   "execution_count": 19,
   "metadata": {},
   "outputs": [],
   "source": [
    "x = df[['travel_distance', 'travel_time']]\n",
    "y = df[['trip_fare']]"
   ]
  },
  {
   "cell_type": "markdown",
   "metadata": {},
   "source": [
    "# 4. Use scikit-learn’s train_test_split() method to split x into 80% training            set and 20% testing set and generate: \n",
    "    • x_train \n",
    "    • x_test \n",
    "    • y_train \n",
    "    • y_test \n",
    "Set the random_state to 6.\n"
   ]
  },
  {
   "cell_type": "code",
   "execution_count": 20,
   "metadata": {},
   "outputs": [
    {
     "name": "stdout",
     "output_type": "stream",
     "text": [
      "(35669, 2)\n",
      "(8918, 2)\n",
      "(35669, 1)\n",
      "(8918, 1)\n"
     ]
    }
   ],
   "source": [
    "x_train, x_test, y_train, y_test = train_test_split(x, y, train_size = 0.8, test_size = 0.2,\n",
    "random_state=6) \n",
    "print(x_train.shape)\n",
    "print(x_test.shape)\n",
    "print(y_train.shape)\n",
    "print(y_test.shape)\n"
   ]
  },
  {
   "cell_type": "markdown",
   "metadata": {},
   "source": [
    " # 5.Create a Linear Regression model and call it regr. Fit the model using x_train and y_train."
   ]
  },
  {
   "cell_type": "code",
   "execution_count": 24,
   "metadata": {},
   "outputs": [
    {
     "data": {
      "text/plain": [
       "LinearRegression(copy_X=True, fit_intercept=True, n_jobs=None, normalize=False)"
      ]
     },
     "execution_count": 24,
     "metadata": {},
     "output_type": "execute_result"
    }
   ],
   "source": [
    "regr = LinearRegression()\n",
    "regr.fit(x_train,y_train)"
   ]
  },
  {
   "cell_type": "markdown",
   "metadata": {},
   "source": [
    "# 6. Use the model to predict 'y' from values x_test.  Store the predictions in a variable called trip_fare_predict"
   ]
  },
  {
   "cell_type": "code",
   "execution_count": 30,
   "metadata": {},
   "outputs": [
    {
     "data": {
      "text/plain": [
       "array([[63.64803023],\n",
       "       [37.70520908],\n",
       "       [60.98015729],\n",
       "       ...,\n",
       "       [19.1785182 ],\n",
       "       [76.95611155],\n",
       "       [46.58731339]])"
      ]
     },
     "execution_count": 30,
     "metadata": {},
     "output_type": "execute_result"
    }
   ],
   "source": [
    "trip_fare_predict = regr.predict(x_test)\n",
    "trip_fare_predict"
   ]
  },
  {
   "cell_type": "code",
   "execution_count": 31,
   "metadata": {},
   "outputs": [
    {
     "data": {
      "text/html": [
       "<div>\n",
       "<style scoped>\n",
       "    .dataframe tbody tr th:only-of-type {\n",
       "        vertical-align: middle;\n",
       "    }\n",
       "\n",
       "    .dataframe tbody tr th {\n",
       "        vertical-align: top;\n",
       "    }\n",
       "\n",
       "    .dataframe thead th {\n",
       "        text-align: right;\n",
       "    }\n",
       "</style>\n",
       "<table border=\"1\" class=\"dataframe\">\n",
       "  <thead>\n",
       "    <tr style=\"text-align: right;\">\n",
       "      <th></th>\n",
       "      <th>travel_distance</th>\n",
       "      <th>travel_time</th>\n",
       "    </tr>\n",
       "  </thead>\n",
       "  <tbody>\n",
       "    <tr>\n",
       "      <td>13688</td>\n",
       "      <td>6.199</td>\n",
       "      <td>21.419067</td>\n",
       "    </tr>\n",
       "    <tr>\n",
       "      <td>39649</td>\n",
       "      <td>3.281</td>\n",
       "      <td>8.092283</td>\n",
       "    </tr>\n",
       "    <tr>\n",
       "      <td>13398</td>\n",
       "      <td>5.890</td>\n",
       "      <td>23.116450</td>\n",
       "    </tr>\n",
       "    <tr>\n",
       "      <td>18176</td>\n",
       "      <td>2.052</td>\n",
       "      <td>6.756900</td>\n",
       "    </tr>\n",
       "    <tr>\n",
       "      <td>10441</td>\n",
       "      <td>2.087</td>\n",
       "      <td>11.483233</td>\n",
       "    </tr>\n",
       "    <tr>\n",
       "      <td>...</td>\n",
       "      <td>...</td>\n",
       "      <td>...</td>\n",
       "    </tr>\n",
       "    <tr>\n",
       "      <td>4910</td>\n",
       "      <td>9.787</td>\n",
       "      <td>32.144533</td>\n",
       "    </tr>\n",
       "    <tr>\n",
       "      <td>42965</td>\n",
       "      <td>5.855</td>\n",
       "      <td>24.185500</td>\n",
       "    </tr>\n",
       "    <tr>\n",
       "      <td>20232</td>\n",
       "      <td>1.179</td>\n",
       "      <td>4.816500</td>\n",
       "    </tr>\n",
       "    <tr>\n",
       "      <td>35237</td>\n",
       "      <td>7.683</td>\n",
       "      <td>32.679833</td>\n",
       "    </tr>\n",
       "    <tr>\n",
       "      <td>25367</td>\n",
       "      <td>4.257</td>\n",
       "      <td>20.577683</td>\n",
       "    </tr>\n",
       "  </tbody>\n",
       "</table>\n",
       "<p>8918 rows × 2 columns</p>\n",
       "</div>"
      ],
      "text/plain": [
       "       travel_distance  travel_time\n",
       "13688            6.199    21.419067\n",
       "39649            3.281     8.092283\n",
       "13398            5.890    23.116450\n",
       "18176            2.052     6.756900\n",
       "10441            2.087    11.483233\n",
       "...                ...          ...\n",
       "4910             9.787    32.144533\n",
       "42965            5.855    24.185500\n",
       "20232            1.179     4.816500\n",
       "35237            7.683    32.679833\n",
       "25367            4.257    20.577683\n",
       "\n",
       "[8918 rows x 2 columns]"
      ]
     },
     "execution_count": 31,
     "metadata": {},
     "output_type": "execute_result"
    }
   ],
   "source": [
    "x_test"
   ]
  },
  {
   "cell_type": "markdown",
   "metadata": {},
   "source": [
    "# 7. To see this model in action, let’s test it with travel_distance of 3.5 kms and travel_time of 15 minutes."
   ]
  },
  {
   "cell_type": "code",
   "execution_count": 32,
   "metadata": {},
   "outputs": [
    {
     "name": "stdout",
     "output_type": "stream",
     "text": [
      "Predicted fare: $39.80\n"
     ]
    }
   ],
   "source": [
    "trip_details = [[3.5,15.0]]\n",
    "fare = regr.predict(trip_details)\n",
    "print(\"Predicted fare: $%.2f\" %fare)"
   ]
  },
  {
   "cell_type": "markdown",
   "metadata": {},
   "source": [
    "# 8. Use the .score() method from LinearRegression to find the mean squared error regression loss for the training set.\n"
   ]
  },
  {
   "cell_type": "code",
   "execution_count": 41,
   "metadata": {},
   "outputs": [
    {
     "name": "stdout",
     "output_type": "stream",
     "text": [
      "Train score:\n"
     ]
    },
    {
     "data": {
      "text/plain": [
       "0.8133029584633246"
      ]
     },
     "execution_count": 41,
     "metadata": {},
     "output_type": "execute_result"
    }
   ],
   "source": [
    "print(\"Train score:\")\n",
    "regr.score(x_train, y_train)"
   ]
  },
  {
   "cell_type": "markdown",
   "metadata": {},
   "source": [
    "# 9. Use the .score() method from LinearRegression to find the mean squared error regression loss for the testing set."
   ]
  },
  {
   "cell_type": "markdown",
   "metadata": {},
   "source": [
    "Usually, a R² of\n",
    "0.70 is considered good. "
   ]
  },
  {
   "cell_type": "code",
   "execution_count": 42,
   "metadata": {
    "scrolled": true
   },
   "outputs": [
    {
     "name": "stdout",
     "output_type": "stream",
     "text": [
      "Test score:\n",
      "0.7180005193416683\n"
     ]
    }
   ],
   "source": [
    "print(\"Test score:\")\n",
    "print(regr.score(x_test, y_test))"
   ]
  },
  {
   "cell_type": "markdown",
   "metadata": {},
   "source": [
    "# 10. Create a scatterplot of travel_distance and trip_fare:\n",
    "# Is there a strong correlation?"
   ]
  },
  {
   "cell_type": "code",
   "execution_count": 43,
   "metadata": {},
   "outputs": [
    {
     "data": {
      "image/png": "[encoded data removed]",
      "text/plain": [
       "<Figure size 432x288 with 1 Axes>"
      ]
     },
     "metadata": {
      "needs_background": "light"
     },
     "output_type": "display_data"
    }
   ],
   "source": [
    "plt.scatter(df[['travel_distance']],df[['trip_fare']],alpha=0.4)\n",
    "plt.show()"
   ]
  },
  {
   "cell_type": "markdown",
   "metadata": {},
   "source": [
    "# 10. Create a scatterplot of travel_time and trip_fare:\n",
    "# Is there a strong correlation?"
   ]
  },
  {
   "cell_type": "code",
   "execution_count": 46,
   "metadata": {},
   "outputs": [
    {
     "data": {
      "image/png": "[encoded data removed]",
      "text/plain": [
       "<Figure size 432x288 with 1 Axes>"
      ]
     },
     "metadata": {
      "needs_background": "light"
     },
     "output_type": "display_data"
    }
   ],
   "source": [
    "plt.scatter(df[['travel_time']],df[['trip_fare']],alpha=0.4)\n",
    "plt.show()"
   ]
  }
 ],
 "metadata": {
  "kernelspec": {
   "display_name": "Python 3",
   "language": "python",
   "name": "python3"
  },
  "language_info": {
   "codemirror_mode": {
    "name": "ipython",
    "version": 3
   },
   "file_extension": ".py",
   "mimetype": "text/x-python",
   "name": "python",
   "nbconvert_exporter": "python",
   "pygments_lexer": "ipython3",
   "version": "3.7.4"
  }
 },
 "nbformat": 4,
 "nbformat_minor": 2
}
